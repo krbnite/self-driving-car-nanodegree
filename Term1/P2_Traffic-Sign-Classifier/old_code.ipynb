{
 "cells": [
  {
   "cell_type": "code",
   "execution_count": 1,
   "metadata": {
    "collapsed": true
   },
   "outputs": [],
   "source": [
    "### Define your architecture here.\n",
    "### Feel free to use as many code cells as needed.\n",
    "\n",
    "def SignNet(x, keep_prob, mu=0, n_classes=43, sigma=0.1, print_shapes=False):    \n",
    "    # Arguments used for tf.truncated_normal, randomly defines variables for the weights and biases for each layer\n",
    "    # mu = 0; sigma = 0.1\n",
    "        \n",
    "    # Layer 1 Parameters\n",
    "    old_depth = x.get_shape().as_list()[-1]\n",
    "    new_depth = 16\n",
    "    wc1 = tf.Variable(tf.truncated_normal([5, 5, old_depth, new_depth], mean=mu, stddev=sigma), name=\"wc1\")\n",
    "    bc1 = tf.Variable(tf.zeros([new_depth]), name=\"bc1\")\n",
    "    # Layer 1a: Convolutional. \n",
    "    conv1 = tf.nn.bias_add(tf.nn.conv2d(x, filter=wc1, strides=[1,1,1,1], padding='VALID'), bc1)\n",
    "    # Layer 1b: Activation.\n",
    "    drop1\n",
    "    actv1 = tf.nn.relu(conv1)\n",
    "    # Layer 1c: Pooling. \n",
    "    pool1 = tf.nn.max_pool(actv1, ksize=[1,2,2,1], strides=[1,2,2,1], padding='SAME')\n",
    "\n",
    "    # Layer 2 Parameters\n",
    "    old_depth = new_depth\n",
    "    new_depth = 64\n",
    "    wc2 = tf.Variable(tf.truncated_normal([5, 5, old_depth, new_depth], mean=mu, stddev=sigma), name=\"wc2\")\n",
    "    bc2 = tf.Variable(tf.zeros([new_depth]),  name=\"bc2\")\n",
    "    # Layer 2a: Convolutional. \n",
    "    conv2 = tf.nn.bias_add(tf.nn.conv2d(pool1, filter=wc2, strides=[1,1,1,1], padding='VALID'), bc2)\n",
    "    # Layer 2b: Activation.\n",
    "    tf.nn.dropout\n",
    "    actv2 = tf.nn.relu(conv2)\n",
    "    # Layer 2c: Pooling. \n",
    "    pool2 = tf.nn.max_pool(actv2, ksize=[1,2,2,1], strides=[1,2,2,1], padding='SAME')\n",
    "\n",
    "    # Flatten. \n",
    "    flatx = tf.reshape(pool2, [-1, 5*5*new_depth])\n",
    "    \n",
    "    # Layer 3 Parameters\n",
    "    old_depth = new_depth\n",
    "    new_depth = 172\n",
    "    wd1 = tf.Variable(tf.truncated_normal([5*5*old_depth, new_depth], mean=mu, stddev=sigma), name=\"wd1\")\n",
    "    bd1 = tf.Variable(tf.zeros([new_depth]), name=\"bd1\")\n",
    "    # Layer 3a: Fully Connected. Input = 400. Output = 120.\n",
    "    fc1 = tf.matmul(flatx, wd1) + bd1\n",
    "    # Layer 3b: Activation.\n",
    "    actv_fc1 = tf.nn.relu(fc1)\n",
    "    \n",
    "    # Layer 4 Parameters\n",
    "    old_depth = new_depth\n",
    "    new_depth = 86\n",
    "    wd2 = tf.Variable(tf.truncated_normal([old_depth, new_depth], mean=mu, stddev=sigma), name=\"wd2\")\n",
    "    bd2 = tf.Variable(tf.zeros([new_depth]),  name=\"bd2\")\n",
    "    # Layer 4a: Fully Connected. \n",
    "    fc2 = tf.matmul(actv_fc1, wd2) + bd2\n",
    "    # Layer 4b: Activation.\n",
    "    actv_fc2 = tf.nn.relu(fc2)\n",
    "\n",
    "    # Layer 5 Parameters\n",
    "    old_depth = new_depth\n",
    "    new_depth = n_classes\n",
    "    w_out = tf.Variable(tf.truncated_normal([old_depth, new_depth], mean=mu, stddev=sigma), name=\"w_out\")\n",
    "    b_out = tf.Variable(tf.zeros([n_classes]),  name=\"b_out\")\n",
    "    # Layer 5: Fully Connected.\n",
    "    logits = tf.matmul(actv_fc2, w_out) + b_out\n",
    "    \n",
    "    if print_shapes==True:\n",
    "        print('Conv1:', conv1.get_shape().as_list())\n",
    "        print('Pool1:', pool1.get_shape().as_list())\n",
    "        print('Conv2:', conv2.get_shape().as_list())\n",
    "        print('Pool2:', pool2.get_shape().as_list())\n",
    "        print('FC1: ', fc1.get_shape().as_list())\n",
    "        print('FC2: ', fc2.get_shape().as_list())\n",
    "        print('Logits:', logits.get_shape().as_list())\n",
    "    else:\n",
    "        return logits"
   ]
  },
  {
   "cell_type": "code",
   "execution_count": null,
   "metadata": {
    "collapsed": true
   },
   "outputs": [],
   "source": []
  }
 ],
 "metadata": {
  "kernelspec": {
   "display_name": "Python 3",
   "language": "python",
   "name": "python3"
  },
  "language_info": {
   "codemirror_mode": {
    "name": "ipython",
    "version": 3
   },
   "file_extension": ".py",
   "mimetype": "text/x-python",
   "name": "python",
   "nbconvert_exporter": "python",
   "pygments_lexer": "ipython3",
   "version": "3.5.2"
  },
  "widgets": {
   "state": {},
   "version": "1.1.2"
  }
 },
 "nbformat": 4,
 "nbformat_minor": 2
}
